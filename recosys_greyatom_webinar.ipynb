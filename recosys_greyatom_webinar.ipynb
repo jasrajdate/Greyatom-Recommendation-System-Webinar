{
 "cells": [
  {
   "cell_type": "markdown",
   "metadata": {},
   "source": [
    "# HOW RECOMMENDATION SYSTEMS WORK "
   ]
  },
  {
   "cell_type": "markdown",
   "metadata": {},
   "source": [
    "## TODAYS'S AGENDA"
   ]
  },
  {
   "cell_type": "markdown",
   "metadata": {},
   "source": [
    "\n",
    "- What are recommender systems?\n",
    "- Different strategies for implementing recommender systems.\n",
    "- How to evaluate if a recommender system is effective.\n",
    "- Build a rule based recommendation system.\n"
   ]
  },
  {
   "cell_type": "markdown",
   "metadata": {},
   "source": [
    "## What are recommender systems? "
   ]
  },
  {
   "cell_type": "markdown",
   "metadata": {},
   "source": [
    "- A recommender system is a type of information filtering system, by drawing from huge data sets, the system’s algorithm can pinpoint accurate user preferences.\n",
    "\n",
    "- Once you know what a user likes, you can recommend them new and relevant content as you must have observed that job of a reco sys is not just to filter the data but also try to make the recommendations personal for every user\n",
    "\n",
    "- From Amazon to Zomato nearly every app that you use gives you personalized recommendations.\n"
   ]
  },
  {
   "cell_type": "markdown",
   "metadata": {},
   "source": [
    "![alt text here](900x410.jpg \"Visualizing Recommendation System\")"
   ]
  },
  {
   "cell_type": "markdown",
   "metadata": {},
   "source": [
    "### Long Tail Problem"
   ]
  },
  {
   "cell_type": "markdown",
   "metadata": {},
   "source": [
    "![alt text here](too_many_choices.png \"The Paradox of Choice\")"
   ]
  },
  {
   "cell_type": "markdown",
   "metadata": {},
   "source": [
    "**The Paradox of Choice - our tendency to adapt to new things often dampens our initial excitement over buying a novel item**\n"
   ]
  },
  {
   "cell_type": "markdown",
   "metadata": {},
   "source": [
    "Let us take a real life example to see how Amazon deals with this problem. Suppose you want to buy a book online and go to amazon website. Here's what you see\n",
    "![alt text here](amazon-recommender-system.png \"Book Choices\")"
   ]
  },
  {
   "cell_type": "markdown",
   "metadata": {},
   "source": [
    "- It’s the same as the jam bottles in the stores, too many choices. But once you start making choices on the platform, Amazon’s recommender system takes over. \n",
    "\n",
    "- Say you already know which book to buy and search for it, _\"The Great Gatsby\"_\n",
    "\n",
    "- Amazon recommendations,\n",
    "\n",
    "![alt text here](amazon-content-based-filtering-system.png \"Book Recommendations\")\n",
    "\n",
    "- Here the system served you Fahrenheit 451. That’s because past Fitzgerald customers must have also bought Bradbury. As an alternative, your recommender system could offer other Fitzgerald books."
   ]
  },
  {
   "cell_type": "markdown",
   "metadata": {},
   "source": [
    "## Let's build a Recommendation System "
   ]
  },
  {
   "cell_type": "markdown",
   "metadata": {},
   "source": [
    "### Part I - What's the idea?"
   ]
  },
  {
   "cell_type": "markdown",
   "metadata": {},
   "source": [
    "- Get the Movielens dataset from Kaggle. It has ~45K movies.\n",
    "<br>\n",
    "\n",
    "- Do exploratory data analysis of the dataset. Basically understand which attributes of movie data are useful for us and how can we use those.\n",
    "<br>\n",
    "\n",
    "- Then we finalize the attributes inn the following attributes - \n",
    "    1. series in which movie belongs to\n",
    "    2. genres\n",
    "    3. language of the movie\n",
    "    4. name\n",
    "    5. production companies\n",
    "    6. country in which movie was made\n",
    "    7. release date\n",
    "    8. status(is it released, in pre-production etc.)\n",
    "    9. IMDb rating\n",
    "    10. cast(actors and actresses)\n",
    "\n",
    "<br>\n",
    "\n",
    "- Using the following features we start filtering through the data. We use these attributes as sieves to get similar data.<br> **Example** - Given a query for English movie, we use language of the movie as a sieve to filter out only English movies.\n",
    "<br>\n",
    "\n",
    "- After filtering through multiple layers of attributes, we finaly get most similar movies together.\n",
    "<br>\n",
    "\n",
    "- We apply the most basic formula for obtaining similar text. **Cosine Similarity**, on the cast and genres of the movie. Which means we will get movies with similar cast and genres as the recommendations.\n",
    "<br>\n",
    "\n",
    "- A brief explanation of what Cosine Similarity does. Given two sentences cosine similarity tries to find similarity between two statements. <br> **Example** - **statement1**: \"Movie A is an American romantic comedy film.\"<br> **statement2**: \"Movie B is a British romantic film.\"<br> **statement3**: \"Movie C is an action film.\""
   ]
  },
  {
   "cell_type": "markdown",
   "metadata": {},
   "source": [
    "As you can already see in above example there are multiple ways to give recommendations for same entity.\n",
    "Which brings us to the question, what are those multiple ways!?"
   ]
  },
  {
   "cell_type": "markdown",
   "metadata": {},
   "source": [
    "## Different strategies to build a recommendation system"
   ]
  },
  {
   "cell_type": "markdown",
   "metadata": {},
   "source": [
    "Majorly there are **three** ways:\n",
    "- **Collaborative Filtering**\n",
    "- **Content-based Filtering**\n",
    "- **Hybrid (Combination of Both)**"
   ]
  },
  {
   "cell_type": "markdown",
   "metadata": {},
   "source": [
    "### Collaborative Filtering "
   ]
  },
  {
   "cell_type": "markdown",
   "metadata": {},
   "source": [
    "A collaborative filtering recommender system analyzes similarities between users and/or item interactions. Once the system identifies similarities, it serves users recommendations. In general, users see items that similar users liked.\n",
    "\n",
    "There are different types of collaborative filtering systems including:\n",
    "\n",
    "- **Item-item Collaborative Filtering**\n",
    "- **User-user Collaborative Filtering**"
   ]
  },
  {
   "cell_type": "markdown",
   "metadata": {},
   "source": [
    "#### Item-item Collaborative Filtering"
   ]
  },
  {
   "cell_type": "markdown",
   "metadata": {},
   "source": [
    "- An **item-item** filtering algorithm analyzes product associations taken from user ratings. Users then see recommendations based on how they rate individual products.\n",
    "<br>\n",
    "\n",
    "- For example, you watch a video. Now, you will see the most viewed videos with similar attributes. Below is an example from YouTube.\n",
    "<br>\n",
    "\n",
    "- I watched a special list for videos that I gave thumbs-up. YouTube then recommends me the most viewed videos from similar viewers' lists, which in this case is video by Sentdex.\n",
    "<br>\n",
    "\n",
    "- One more thing to notice in this example is I watched a few videos by Comicstorian - a youtube channel which is all about Superhero Comic Books, it automatically showed me videos Variant Comics(another comic books related channel)\n",
    "<br>\n",
    "\n",
    "![alt text here](youtube_reco.png \"Youtube Recommendations\")"
   ]
  },
  {
   "cell_type": "markdown",
   "metadata": {},
   "source": [
    " "
   ]
  },
  {
   "cell_type": "markdown",
   "metadata": {},
   "source": [
    "#### User-user Collaborative Filtering"
   ]
  },
  {
   "cell_type": "markdown",
   "metadata": {},
   "source": [
    "- The second kind of collaborative filtering takes the similarity of user tastes into consideration.\n",
    "<br>\n",
    "\n",
    "- So, user-user collaborative filtering doesn’t serve you items with the best ratings. \n",
    "<br>\n",
    "\n",
    "- Instead, you join a cluster of other people with similar tastes and you see content based on historic choices.\n",
    "\n"
   ]
  },
  {
   "cell_type": "markdown",
   "metadata": {},
   "source": [
    "Let’s say you use YouTube for the first time. You play a video tutorial by YouTube channel Lex Fridman.\n",
    "The system clusters you with other users who also like the same channel. Then the YouTube recommendation system shows you other videos chosen by users in your cluster. The more choices you make, the more relevant the results.\n",
    "\n",
    " \n",
    "![alt text here](youtube_video_reco.png \"YouTube Recommendations\")\n"
   ]
  },
  {
   "cell_type": "markdown",
   "metadata": {},
   "source": [
    " "
   ]
  },
  {
   "cell_type": "markdown",
   "metadata": {},
   "source": [
    "### Content Based Recommender Systems"
   ]
  },
  {
   "cell_type": "markdown",
   "metadata": {},
   "source": [
    "Content based filtering uses characteristics or properties of an item to serve recommendations. Characteristic information includes:\n",
    "\n",
    "- Characteristics of Items (Keywords and Attributes)\n",
    "- Characteristics of Users (Profile Information)"
   ]
  },
  {
   "cell_type": "markdown",
   "metadata": {},
   "source": [
    "Let’s use a movie recommendation system as an example. Characteristics for the item Harry Potter and the Sorcerer’s Stone might include:\n",
    "\n",
    "- Director Name – Chris Columbus\n",
    "- Genres – Adventure, Fantasy, Family (IMDB)\n",
    "- Stars – Daniel Radcliffe, Rupert Grint, Emma Watson\n",
    "\n",
    "![alt text here](content-based-filtering-harry-potter.png \"Content based Recommendations\")"
   ]
  },
  {
   "cell_type": "markdown",
   "metadata": {},
   "source": [
    "A content based recommender system can now serve the user:\n",
    "\n",
    "- **More Harry Potter Movies**\n",
    "- **More Adventure, Family, or Fantasy Movies**\n",
    "- **More Chris Columbus Movies**\n",
    "- **More Daniel Radcliffe Movies**"
   ]
  },
  {
   "cell_type": "markdown",
   "metadata": {},
   "source": [
    "Of course, this isn't an exhaustive list of rules using which we can give recommendations. \n",
    "The system may also show the user more Harry Potter movies. The hypothesis is that if a user liked an item in the past, they might like similar items in the future."
   ]
  },
  {
   "cell_type": "markdown",
   "metadata": {},
   "source": [
    "##  Why do we need so many types of recommender systems?"
   ]
  },
  {
   "cell_type": "markdown",
   "metadata": {},
   "source": [
    "Well it turns out that each of the above type of recommender system has its own set of problems. Let us go through them"
   ]
  },
  {
   "cell_type": "markdown",
   "metadata": {},
   "source": [
    "### The Collaborative Filtering Problem "
   ]
  },
  {
   "cell_type": "markdown",
   "metadata": {},
   "source": [
    "- Collaborative filtering needs a lot of data to create relevant suggestions. So, when you start using a platform with a collaborative filtering system, you start cold.\n",
    "\n",
    "- The cold start problem in recommender systems is common for collaborative filtering systems.\n",
    "\n",
    "- For example, when John Doe visits YouTube for the first time, the system has to wait for him to watch several videos. Only then can it serve him relevant recommendations for other videos.\n",
    "\n",
    "- One way to tackle this situation is to start clustering John Doe with others who watch similar videos or just recommend most popular videos till he watches enough number of videos"
   ]
  },
  {
   "cell_type": "markdown",
   "metadata": {},
   "source": [
    "### The Content Based Filtering Problem"
   ]
  },
  {
   "cell_type": "markdown",
   "metadata": {},
   "source": [
    "- The problem with content-based recommender systems is that they are restrictive. \n",
    "- You click on a t-shirt and you see more t-shirts. The system is incapable of knowing that your interests go beyond liking t-shirts.\n",
    "- Basically the system isn't dynamic enough to keep the customer engaged, unless they are ready to browse through same category.\n",
    "- A common solution is to ask users upfront about what kind of things they like. And as users interact with your site, you can use historical data to recommend them more tailored choices.\n",
    "\n",
    "- The customer buys a t-shirt and some shorts. Now, you know that he likes both."
   ]
  },
  {
   "cell_type": "markdown",
   "metadata": {},
   "source": [
    "## How to Evaluate if a Recommender System is Effective"
   ]
  },
  {
   "cell_type": "markdown",
   "metadata": {},
   "source": [
    "The are quite a few ways to evaluate, but we will be looking at two of them today\n",
    "- **User Studies / Personas**\n",
    "- **Online Recommender System Survey (A/B Testing)**"
   ]
  },
  {
   "cell_type": "markdown",
   "metadata": {},
   "source": [
    "Now what I have mentioned above are two methods to check the efficiency of a recommendation system. But on what parameters do we check the efficiency?\n",
    "So, let us just go through some important parameters - \n",
    "- **User Preference**: When systems make recommendations based on user interests, habits, and goals.\n",
    "<br>\n",
    "\n",
    "- **Prediction Accuracy**: When systems make accurate predictions about the results of serving a recommendation to a user.\n",
    "<br>\n",
    "\n",
    "- **Coverage**: The degree to which recommendations cover all available items and actions.\n",
    "<br>\n",
    "\n",
    "- **Diversity**: The more diverse the recommendations, the broader the offer for users.\n",
    "<br>\n",
    "\n",
    "- **Privacy**: Despite users willingly giving information to recommender systems, they still want that information to be private.\n",
    "<br>\n",
    "\n",
    "- **Adaptivity**: When the recommender system can adapt and serve users relevant recommendations even when the content and environment is dynamic.\n",
    "<br>\n",
    "\n",
    "- **Scalability**: The system can handle a growing amount of data."
   ]
  },
  {
   "cell_type": "markdown",
   "metadata": {},
   "source": [
    "So having understood the parameters let us check out ways to evaluate"
   ]
  },
  {
   "cell_type": "markdown",
   "metadata": {},
   "source": [
    "### User Studies/Personas "
   ]
  },
  {
   "cell_type": "markdown",
   "metadata": {},
   "source": [
    "- In the beginning, you will have no real knowledge about your users or their interests. So, how do you create personalized offers for people you don’t know?\n",
    "<br>\n",
    "\n",
    "- The easiest way to test what will be effective is to create user personas. \n",
    "<br>\n",
    "\n",
    "- A good way to assign user personas is to have new users answer a few brief onboarding questions. And that’s especially true for mobile applications.\n",
    "<br>\n",
    "\n",
    "- Here is how Spotify does it.\n",
    "<br>\n",
    "\n",
    "![alt text here](spotify1.png \"Spotify Recommendations\")\n",
    "\n",
    "![alt text here](spotify2.png \"Spotify Recommendations\")\n",
    "\n",
    "![alt text here](spotify3.png \"Spotify Recommendations\")"
   ]
  },
  {
   "cell_type": "markdown",
   "metadata": {},
   "source": [
    " "
   ]
  },
  {
   "cell_type": "markdown",
   "metadata": {},
   "source": [
    " "
   ]
  },
  {
   "cell_type": "markdown",
   "metadata": {},
   "source": [
    "### Online Recommender System Survey (A/B Testing) "
   ]
  },
  {
   "cell_type": "markdown",
   "metadata": {},
   "source": [
    "- Once you launch your recommencer system, you run online evaluations. These evaluations comprise various A/B tests that you serve to users live.\n",
    "<br>\n",
    "\n",
    "- If you’re unfamiliar with A/B testing, it involves serving different options to users who arrive at the same point. One user sees option “A” while the other sees option “B.” Whichever option does better, that’s the one you continue to serve all users.\n",
    "<br>\n",
    "\n",
    "- By running A/B tests, you can see which recommendation inspires more clicks and conversions. \n",
    "<br>\n",
    "\n",
    "- While ideal in the long run, this form of testing can have a negative impact on revenue and user experience if users don’t like either option."
   ]
  },
  {
   "cell_type": "markdown",
   "metadata": {},
   "source": [
    "## How Recommendation Systems help a business? "
   ]
  },
  {
   "cell_type": "markdown",
   "metadata": {},
   "source": [
    "\n",
    "- **Increase in sales thanks to personalized offers.**\n",
    "- **Enhanced customer experience.**\n",
    "- **More time spent on the platform.**\n",
    "- **Customer retention thanks to users feeling understood**\n"
   ]
  },
  {
   "cell_type": "markdown",
   "metadata": {},
   "source": [
    " "
   ]
  },
  {
   "cell_type": "markdown",
   "metadata": {},
   "source": [
    " "
   ]
  },
  {
   "cell_type": "markdown",
   "metadata": {},
   "source": [
    " "
   ]
  },
  {
   "cell_type": "markdown",
   "metadata": {},
   "source": [
    " "
   ]
  },
  {
   "cell_type": "markdown",
   "metadata": {},
   "source": [
    " "
   ]
  },
  {
   "cell_type": "markdown",
   "metadata": {},
   "source": [
    "## Let's build a Recommendation System "
   ]
  },
  {
   "cell_type": "markdown",
   "metadata": {},
   "source": [
    "### Part II - Writing the code"
   ]
  },
  {
   "cell_type": "code",
   "execution_count": 48,
   "metadata": {},
   "outputs": [],
   "source": [
    "from sklearn.feature_extraction.text import CountVectorizer, TfidfVectorizer\n",
    "from sklearn.metrics.pairwise import cosine_similarity\n",
    "from concurrent.futures import ProcessPoolExecutor\n",
    "from unidecode import unidecode\n",
    "from datetime import datetime\n",
    "import multiprocessing as mp\n",
    "import pandas as pd\n",
    "import operator\n",
    "import random\n",
    "import json\n",
    "import time\n",
    "import ast\n",
    "import csv\n",
    "import re"
   ]
  },
  {
   "cell_type": "code",
   "execution_count": 49,
   "metadata": {},
   "outputs": [
    {
     "name": "stderr",
     "output_type": "stream",
     "text": [
      "/home/jasraj/anaconda3/lib/python3.7/site-packages/IPython/core/interactiveshell.py:3049: DtypeWarning: Columns (10) have mixed types. Specify dtype option on import or set low_memory=False.\n",
      "  interactivity=interactivity, compiler=compiler, result=result)\n"
     ]
    }
   ],
   "source": [
    "#Load csv and remove certain entries with specific unwanted words for books\n",
    "filename = \"movies_metadata.csv\"\n",
    "movies = pd.read_csv(filename, delimiter = \",\")\n",
    "movies.replace(pd.np.nan,'Information not available',inplace=True)"
   ]
  },
  {
   "cell_type": "code",
   "execution_count": 50,
   "metadata": {},
   "outputs": [],
   "source": [
    "#Load csv and remove certain entries with specific unwanted words for books\n",
    "filename = \"credits.csv\"\n",
    "credits_dataframe = pd.read_csv(filename, delimiter = \",\")\n",
    "credits_dataframe.replace(pd.np.nan,'Information not available',inplace=True)"
   ]
  },
  {
   "cell_type": "code",
   "execution_count": 53,
   "metadata": {
    "scrolled": true
   },
   "outputs": [
    {
     "data": {
      "text/html": [
       "<div>\n",
       "<style scoped>\n",
       "    .dataframe tbody tr th:only-of-type {\n",
       "        vertical-align: middle;\n",
       "    }\n",
       "\n",
       "    .dataframe tbody tr th {\n",
       "        vertical-align: top;\n",
       "    }\n",
       "\n",
       "    .dataframe thead th {\n",
       "        text-align: right;\n",
       "    }\n",
       "</style>\n",
       "<table border=\"1\" class=\"dataframe\">\n",
       "  <thead>\n",
       "    <tr style=\"text-align: right;\">\n",
       "      <th></th>\n",
       "      <th>adult</th>\n",
       "      <th>belongs_to_collection</th>\n",
       "      <th>budget</th>\n",
       "      <th>genres</th>\n",
       "      <th>homepage</th>\n",
       "      <th>id</th>\n",
       "      <th>imdb_id</th>\n",
       "      <th>original_language</th>\n",
       "      <th>original_title</th>\n",
       "      <th>overview</th>\n",
       "      <th>...</th>\n",
       "      <th>release_date</th>\n",
       "      <th>revenue</th>\n",
       "      <th>runtime</th>\n",
       "      <th>spoken_languages</th>\n",
       "      <th>status</th>\n",
       "      <th>tagline</th>\n",
       "      <th>title</th>\n",
       "      <th>video</th>\n",
       "      <th>vote_average</th>\n",
       "      <th>vote_count</th>\n",
       "    </tr>\n",
       "  </thead>\n",
       "  <tbody>\n",
       "    <tr>\n",
       "      <th>45461</th>\n",
       "      <td>False</td>\n",
       "      <td>Information not available</td>\n",
       "      <td>0</td>\n",
       "      <td>[{'id': 18, 'name': 'Drama'}, {'id': 10751, 'n...</td>\n",
       "      <td>http://www.imdb.com/title/tt6209470/</td>\n",
       "      <td>439050</td>\n",
       "      <td>tt6209470</td>\n",
       "      <td>fa</td>\n",
       "      <td>رگ خواب</td>\n",
       "      <td>Rising and falling between a man and woman.</td>\n",
       "      <td>...</td>\n",
       "      <td>Information not available</td>\n",
       "      <td>0</td>\n",
       "      <td>90</td>\n",
       "      <td>[{'iso_639_1': 'fa', 'name': 'فارسی'}]</td>\n",
       "      <td>Released</td>\n",
       "      <td>Rising and falling between a man and woman</td>\n",
       "      <td>Subdue</td>\n",
       "      <td>False</td>\n",
       "      <td>4</td>\n",
       "      <td>1</td>\n",
       "    </tr>\n",
       "    <tr>\n",
       "      <th>45462</th>\n",
       "      <td>False</td>\n",
       "      <td>Information not available</td>\n",
       "      <td>0</td>\n",
       "      <td>[{'id': 18, 'name': 'Drama'}]</td>\n",
       "      <td>Information not available</td>\n",
       "      <td>111109</td>\n",
       "      <td>tt2028550</td>\n",
       "      <td>tl</td>\n",
       "      <td>Siglo ng Pagluluwal</td>\n",
       "      <td>An artist struggles to finish his work while a...</td>\n",
       "      <td>...</td>\n",
       "      <td>2011-11-17</td>\n",
       "      <td>0</td>\n",
       "      <td>360</td>\n",
       "      <td>[{'iso_639_1': 'tl', 'name': ''}]</td>\n",
       "      <td>Released</td>\n",
       "      <td>Information not available</td>\n",
       "      <td>Century of Birthing</td>\n",
       "      <td>False</td>\n",
       "      <td>9</td>\n",
       "      <td>3</td>\n",
       "    </tr>\n",
       "    <tr>\n",
       "      <th>45463</th>\n",
       "      <td>False</td>\n",
       "      <td>Information not available</td>\n",
       "      <td>0</td>\n",
       "      <td>[{'id': 28, 'name': 'Action'}, {'id': 18, 'nam...</td>\n",
       "      <td>Information not available</td>\n",
       "      <td>67758</td>\n",
       "      <td>tt0303758</td>\n",
       "      <td>en</td>\n",
       "      <td>Betrayal</td>\n",
       "      <td>When one of her hits goes wrong, a professiona...</td>\n",
       "      <td>...</td>\n",
       "      <td>2003-08-01</td>\n",
       "      <td>0</td>\n",
       "      <td>90</td>\n",
       "      <td>[{'iso_639_1': 'en', 'name': 'English'}]</td>\n",
       "      <td>Released</td>\n",
       "      <td>A deadly game of wits.</td>\n",
       "      <td>Betrayal</td>\n",
       "      <td>False</td>\n",
       "      <td>3.8</td>\n",
       "      <td>6</td>\n",
       "    </tr>\n",
       "    <tr>\n",
       "      <th>45464</th>\n",
       "      <td>False</td>\n",
       "      <td>Information not available</td>\n",
       "      <td>0</td>\n",
       "      <td>[]</td>\n",
       "      <td>Information not available</td>\n",
       "      <td>227506</td>\n",
       "      <td>tt0008536</td>\n",
       "      <td>en</td>\n",
       "      <td>Satana likuyushchiy</td>\n",
       "      <td>In a small town live two brothers, one a minis...</td>\n",
       "      <td>...</td>\n",
       "      <td>1917-10-21</td>\n",
       "      <td>0</td>\n",
       "      <td>87</td>\n",
       "      <td>[]</td>\n",
       "      <td>Released</td>\n",
       "      <td>Information not available</td>\n",
       "      <td>Satan Triumphant</td>\n",
       "      <td>False</td>\n",
       "      <td>0</td>\n",
       "      <td>0</td>\n",
       "    </tr>\n",
       "    <tr>\n",
       "      <th>45465</th>\n",
       "      <td>False</td>\n",
       "      <td>Information not available</td>\n",
       "      <td>0</td>\n",
       "      <td>[]</td>\n",
       "      <td>Information not available</td>\n",
       "      <td>461257</td>\n",
       "      <td>tt6980792</td>\n",
       "      <td>en</td>\n",
       "      <td>Queerama</td>\n",
       "      <td>50 years after decriminalisation of homosexual...</td>\n",
       "      <td>...</td>\n",
       "      <td>2017-06-09</td>\n",
       "      <td>0</td>\n",
       "      <td>75</td>\n",
       "      <td>[{'iso_639_1': 'en', 'name': 'English'}]</td>\n",
       "      <td>Released</td>\n",
       "      <td>Information not available</td>\n",
       "      <td>Queerama</td>\n",
       "      <td>False</td>\n",
       "      <td>0</td>\n",
       "      <td>0</td>\n",
       "    </tr>\n",
       "  </tbody>\n",
       "</table>\n",
       "<p>5 rows × 24 columns</p>\n",
       "</div>"
      ],
      "text/plain": [
       "       adult      belongs_to_collection budget  \\\n",
       "45461  False  Information not available      0   \n",
       "45462  False  Information not available      0   \n",
       "45463  False  Information not available      0   \n",
       "45464  False  Information not available      0   \n",
       "45465  False  Information not available      0   \n",
       "\n",
       "                                                  genres  \\\n",
       "45461  [{'id': 18, 'name': 'Drama'}, {'id': 10751, 'n...   \n",
       "45462                      [{'id': 18, 'name': 'Drama'}]   \n",
       "45463  [{'id': 28, 'name': 'Action'}, {'id': 18, 'nam...   \n",
       "45464                                                 []   \n",
       "45465                                                 []   \n",
       "\n",
       "                                   homepage      id    imdb_id  \\\n",
       "45461  http://www.imdb.com/title/tt6209470/  439050  tt6209470   \n",
       "45462             Information not available  111109  tt2028550   \n",
       "45463             Information not available   67758  tt0303758   \n",
       "45464             Information not available  227506  tt0008536   \n",
       "45465             Information not available  461257  tt6980792   \n",
       "\n",
       "      original_language       original_title  \\\n",
       "45461                fa              رگ خواب   \n",
       "45462                tl  Siglo ng Pagluluwal   \n",
       "45463                en             Betrayal   \n",
       "45464                en  Satana likuyushchiy   \n",
       "45465                en             Queerama   \n",
       "\n",
       "                                                overview  ...  \\\n",
       "45461        Rising and falling between a man and woman.  ...   \n",
       "45462  An artist struggles to finish his work while a...  ...   \n",
       "45463  When one of her hits goes wrong, a professiona...  ...   \n",
       "45464  In a small town live two brothers, one a minis...  ...   \n",
       "45465  50 years after decriminalisation of homosexual...  ...   \n",
       "\n",
       "                    release_date revenue runtime  \\\n",
       "45461  Information not available       0      90   \n",
       "45462                 2011-11-17       0     360   \n",
       "45463                 2003-08-01       0      90   \n",
       "45464                 1917-10-21       0      87   \n",
       "45465                 2017-06-09       0      75   \n",
       "\n",
       "                               spoken_languages    status  \\\n",
       "45461    [{'iso_639_1': 'fa', 'name': 'فارسی'}]  Released   \n",
       "45462         [{'iso_639_1': 'tl', 'name': ''}]  Released   \n",
       "45463  [{'iso_639_1': 'en', 'name': 'English'}]  Released   \n",
       "45464                                        []  Released   \n",
       "45465  [{'iso_639_1': 'en', 'name': 'English'}]  Released   \n",
       "\n",
       "                                          tagline                title  video  \\\n",
       "45461  Rising and falling between a man and woman               Subdue  False   \n",
       "45462                   Information not available  Century of Birthing  False   \n",
       "45463                      A deadly game of wits.             Betrayal  False   \n",
       "45464                   Information not available     Satan Triumphant  False   \n",
       "45465                   Information not available             Queerama  False   \n",
       "\n",
       "      vote_average vote_count  \n",
       "45461            4          1  \n",
       "45462            9          3  \n",
       "45463          3.8          6  \n",
       "45464            0          0  \n",
       "45465            0          0  \n",
       "\n",
       "[5 rows x 24 columns]"
      ]
     },
     "execution_count": 53,
     "metadata": {},
     "output_type": "execute_result"
    }
   ],
   "source": [
    "movies.tail()"
   ]
  },
  {
   "cell_type": "code",
   "execution_count": 54,
   "metadata": {
    "scrolled": true
   },
   "outputs": [
    {
     "data": {
      "text/html": [
       "<div>\n",
       "<style scoped>\n",
       "    .dataframe tbody tr th:only-of-type {\n",
       "        vertical-align: middle;\n",
       "    }\n",
       "\n",
       "    .dataframe tbody tr th {\n",
       "        vertical-align: top;\n",
       "    }\n",
       "\n",
       "    .dataframe thead th {\n",
       "        text-align: right;\n",
       "    }\n",
       "</style>\n",
       "<table border=\"1\" class=\"dataframe\">\n",
       "  <thead>\n",
       "    <tr style=\"text-align: right;\">\n",
       "      <th></th>\n",
       "      <th>cast</th>\n",
       "      <th>crew</th>\n",
       "      <th>id</th>\n",
       "    </tr>\n",
       "  </thead>\n",
       "  <tbody>\n",
       "    <tr>\n",
       "      <th>0</th>\n",
       "      <td>[{'cast_id': 14, 'character': 'Woody (voice)',...</td>\n",
       "      <td>[{'credit_id': '52fe4284c3a36847f8024f49', 'de...</td>\n",
       "      <td>862</td>\n",
       "    </tr>\n",
       "    <tr>\n",
       "      <th>1</th>\n",
       "      <td>[{'cast_id': 1, 'character': 'Alan Parrish', '...</td>\n",
       "      <td>[{'credit_id': '52fe44bfc3a36847f80a7cd1', 'de...</td>\n",
       "      <td>8844</td>\n",
       "    </tr>\n",
       "    <tr>\n",
       "      <th>2</th>\n",
       "      <td>[{'cast_id': 2, 'character': 'Max Goldman', 'c...</td>\n",
       "      <td>[{'credit_id': '52fe466a9251416c75077a89', 'de...</td>\n",
       "      <td>15602</td>\n",
       "    </tr>\n",
       "    <tr>\n",
       "      <th>3</th>\n",
       "      <td>[{'cast_id': 1, 'character': \"Savannah 'Vannah...</td>\n",
       "      <td>[{'credit_id': '52fe44779251416c91011acb', 'de...</td>\n",
       "      <td>31357</td>\n",
       "    </tr>\n",
       "    <tr>\n",
       "      <th>4</th>\n",
       "      <td>[{'cast_id': 1, 'character': 'George Banks', '...</td>\n",
       "      <td>[{'credit_id': '52fe44959251416c75039ed7', 'de...</td>\n",
       "      <td>11862</td>\n",
       "    </tr>\n",
       "  </tbody>\n",
       "</table>\n",
       "</div>"
      ],
      "text/plain": [
       "                                                cast  \\\n",
       "0  [{'cast_id': 14, 'character': 'Woody (voice)',...   \n",
       "1  [{'cast_id': 1, 'character': 'Alan Parrish', '...   \n",
       "2  [{'cast_id': 2, 'character': 'Max Goldman', 'c...   \n",
       "3  [{'cast_id': 1, 'character': \"Savannah 'Vannah...   \n",
       "4  [{'cast_id': 1, 'character': 'George Banks', '...   \n",
       "\n",
       "                                                crew     id  \n",
       "0  [{'credit_id': '52fe4284c3a36847f8024f49', 'de...    862  \n",
       "1  [{'credit_id': '52fe44bfc3a36847f80a7cd1', 'de...   8844  \n",
       "2  [{'credit_id': '52fe466a9251416c75077a89', 'de...  15602  \n",
       "3  [{'credit_id': '52fe44779251416c91011acb', 'de...  31357  \n",
       "4  [{'credit_id': '52fe44959251416c75039ed7', 'de...  11862  "
      ]
     },
     "execution_count": 54,
     "metadata": {},
     "output_type": "execute_result"
    }
   ],
   "source": [
    "credits_dataframe.head()"
   ]
  },
  {
   "cell_type": "markdown",
   "metadata": {},
   "source": [
    "### Exploratory Data Analysis"
   ]
  },
  {
   "cell_type": "code",
   "execution_count": 55,
   "metadata": {
    "scrolled": true
   },
   "outputs": [
    {
     "data": {
      "text/plain": [
       "en       32269\n",
       "fr        2438\n",
       "it        1529\n",
       "ja        1350\n",
       "de        1080\n",
       "es         994\n",
       "ru         826\n",
       "hi         508\n",
       "ko         444\n",
       "zh         409\n",
       "sv         384\n",
       "pt         316\n",
       "cn         313\n",
       "fi         297\n",
       "nl         248\n",
       "da         225\n",
       "pl         219\n",
       "tr         150\n",
       "cs         130\n",
       "el         113\n",
       "no         106\n",
       "fa         101\n",
       "hu         100\n",
       "ta          78\n",
       "th          76\n",
       "he          67\n",
       "sr          63\n",
       "ro          57\n",
       "te          45\n",
       "ar          39\n",
       "         ...  \n",
       "eu           3\n",
       "ne           2\n",
       "ps           2\n",
       "af           2\n",
       "am           2\n",
       "pa           2\n",
       "lo           2\n",
       "iu           2\n",
       "bo           2\n",
       "mn           2\n",
       "si           1\n",
       "jv           1\n",
       "gl           1\n",
       "68.0         1\n",
       "lb           1\n",
       "zu           1\n",
       "ay           1\n",
       "hy           1\n",
       "82.0         1\n",
       "qu           1\n",
       "eo           1\n",
       "rw           1\n",
       "tg           1\n",
       "uz           1\n",
       "la           1\n",
       "sm           1\n",
       "104.0        1\n",
       "fy           1\n",
       "mt           1\n",
       "cy           1\n",
       "Name: original_language, Length: 93, dtype: int64"
      ]
     },
     "execution_count": 55,
     "metadata": {},
     "output_type": "execute_result"
    }
   ],
   "source": [
    "movies['original_language'].value_counts()"
   ]
  },
  {
   "cell_type": "code",
   "execution_count": 56,
   "metadata": {},
   "outputs": [],
   "source": [
    "movies = movies.groupby('original_language').filter(lambda x : len(x)>100)"
   ]
  },
  {
   "cell_type": "code",
   "execution_count": 57,
   "metadata": {
    "scrolled": true
   },
   "outputs": [
    {
     "data": {
      "text/plain": [
       "en    32269\n",
       "fr     2438\n",
       "it     1529\n",
       "ja     1350\n",
       "de     1080\n",
       "es      994\n",
       "ru      826\n",
       "hi      508\n",
       "ko      444\n",
       "zh      409\n",
       "sv      384\n",
       "pt      316\n",
       "cn      313\n",
       "fi      297\n",
       "nl      248\n",
       "da      225\n",
       "pl      219\n",
       "tr      150\n",
       "cs      130\n",
       "el      113\n",
       "no      106\n",
       "fa      101\n",
       "Name: original_language, dtype: int64"
      ]
     },
     "execution_count": 57,
     "metadata": {},
     "output_type": "execute_result"
    }
   ],
   "source": [
    "movies['original_language'].value_counts()"
   ]
  },
  {
   "cell_type": "code",
   "execution_count": 58,
   "metadata": {},
   "outputs": [],
   "source": [
    "credits_dataframe['id']=credits_dataframe['id'].astype(int)\n",
    "movies['id']=movies['id'].astype(int)\n",
    "movies_metadata_dataframe= pd.merge(movies, credits_dataframe,on='id', how='outer')"
   ]
  },
  {
   "cell_type": "markdown",
   "metadata": {},
   "source": [
    " "
   ]
  },
  {
   "cell_type": "code",
   "execution_count": 59,
   "metadata": {},
   "outputs": [
    {
     "data": {
      "text/plain": [
       "Index(['adult', 'belongs_to_collection', 'budget', 'genres', 'homepage', 'id',\n",
       "       'imdb_id', 'original_language', 'original_title', 'overview',\n",
       "       'popularity', 'poster_path', 'production_companies',\n",
       "       'production_countries', 'release_date', 'revenue', 'runtime',\n",
       "       'spoken_languages', 'status', 'tagline', 'title', 'video',\n",
       "       'vote_average', 'vote_count', 'cast', 'crew'],\n",
       "      dtype='object')"
      ]
     },
     "execution_count": 59,
     "metadata": {},
     "output_type": "execute_result"
    }
   ],
   "source": [
    "movies_metadata_dataframe.columns"
   ]
  },
  {
   "cell_type": "code",
   "execution_count": 60,
   "metadata": {},
   "outputs": [],
   "source": [
    "movie_metadata_dataframe = movies_metadata_dataframe.loc[:,[\"belongs_to_collection\", \"genres\", \"original_language\", \"original_title\", \"production_companies\", \"production_countries\", \"release_date\", \"status\", \"vote_average\", \"cast\", \"crew\"]]"
   ]
  },
  {
   "cell_type": "code",
   "execution_count": 61,
   "metadata": {},
   "outputs": [],
   "source": [
    "movie_metadata_dataframe = movie_metadata_dataframe[movie_metadata_dataframe['original_title'].notna()]"
   ]
  },
  {
   "cell_type": "code",
   "execution_count": 62,
   "metadata": {},
   "outputs": [
    {
     "data": {
      "text/html": [
       "<div>\n",
       "<style scoped>\n",
       "    .dataframe tbody tr th:only-of-type {\n",
       "        vertical-align: middle;\n",
       "    }\n",
       "\n",
       "    .dataframe tbody tr th {\n",
       "        vertical-align: top;\n",
       "    }\n",
       "\n",
       "    .dataframe thead th {\n",
       "        text-align: right;\n",
       "    }\n",
       "</style>\n",
       "<table border=\"1\" class=\"dataframe\">\n",
       "  <thead>\n",
       "    <tr style=\"text-align: right;\">\n",
       "      <th></th>\n",
       "      <th>belongs_to_collection</th>\n",
       "      <th>genres</th>\n",
       "      <th>original_language</th>\n",
       "      <th>original_title</th>\n",
       "      <th>production_companies</th>\n",
       "      <th>production_countries</th>\n",
       "      <th>release_date</th>\n",
       "      <th>status</th>\n",
       "      <th>vote_average</th>\n",
       "      <th>cast</th>\n",
       "      <th>crew</th>\n",
       "    </tr>\n",
       "  </thead>\n",
       "  <tbody>\n",
       "    <tr>\n",
       "      <th>0</th>\n",
       "      <td>{'id': 10194, 'name': 'Toy Story Collection', ...</td>\n",
       "      <td>[{'id': 16, 'name': 'Animation'}, {'id': 35, '...</td>\n",
       "      <td>en</td>\n",
       "      <td>Toy Story</td>\n",
       "      <td>[{'name': 'Pixar Animation Studios', 'id': 3}]</td>\n",
       "      <td>[{'iso_3166_1': 'US', 'name': 'United States o...</td>\n",
       "      <td>1995-10-30</td>\n",
       "      <td>Released</td>\n",
       "      <td>7.7</td>\n",
       "      <td>[{'cast_id': 14, 'character': 'Woody (voice)',...</td>\n",
       "      <td>[{'credit_id': '52fe4284c3a36847f8024f49', 'de...</td>\n",
       "    </tr>\n",
       "    <tr>\n",
       "      <th>1</th>\n",
       "      <td>Information not available</td>\n",
       "      <td>[{'id': 12, 'name': 'Adventure'}, {'id': 14, '...</td>\n",
       "      <td>en</td>\n",
       "      <td>Jumanji</td>\n",
       "      <td>[{'name': 'TriStar Pictures', 'id': 559}, {'na...</td>\n",
       "      <td>[{'iso_3166_1': 'US', 'name': 'United States o...</td>\n",
       "      <td>1995-12-15</td>\n",
       "      <td>Released</td>\n",
       "      <td>6.9</td>\n",
       "      <td>[{'cast_id': 1, 'character': 'Alan Parrish', '...</td>\n",
       "      <td>[{'credit_id': '52fe44bfc3a36847f80a7cd1', 'de...</td>\n",
       "    </tr>\n",
       "    <tr>\n",
       "      <th>2</th>\n",
       "      <td>{'id': 119050, 'name': 'Grumpy Old Men Collect...</td>\n",
       "      <td>[{'id': 10749, 'name': 'Romance'}, {'id': 35, ...</td>\n",
       "      <td>en</td>\n",
       "      <td>Grumpier Old Men</td>\n",
       "      <td>[{'name': 'Warner Bros.', 'id': 6194}, {'name'...</td>\n",
       "      <td>[{'iso_3166_1': 'US', 'name': 'United States o...</td>\n",
       "      <td>1995-12-22</td>\n",
       "      <td>Released</td>\n",
       "      <td>6.5</td>\n",
       "      <td>[{'cast_id': 2, 'character': 'Max Goldman', 'c...</td>\n",
       "      <td>[{'credit_id': '52fe466a9251416c75077a89', 'de...</td>\n",
       "    </tr>\n",
       "    <tr>\n",
       "      <th>3</th>\n",
       "      <td>Information not available</td>\n",
       "      <td>[{'id': 35, 'name': 'Comedy'}, {'id': 18, 'nam...</td>\n",
       "      <td>en</td>\n",
       "      <td>Waiting to Exhale</td>\n",
       "      <td>[{'name': 'Twentieth Century Fox Film Corporat...</td>\n",
       "      <td>[{'iso_3166_1': 'US', 'name': 'United States o...</td>\n",
       "      <td>1995-12-22</td>\n",
       "      <td>Released</td>\n",
       "      <td>6.1</td>\n",
       "      <td>[{'cast_id': 1, 'character': \"Savannah 'Vannah...</td>\n",
       "      <td>[{'credit_id': '52fe44779251416c91011acb', 'de...</td>\n",
       "    </tr>\n",
       "    <tr>\n",
       "      <th>4</th>\n",
       "      <td>{'id': 96871, 'name': 'Father of the Bride Col...</td>\n",
       "      <td>[{'id': 35, 'name': 'Comedy'}]</td>\n",
       "      <td>en</td>\n",
       "      <td>Father of the Bride Part II</td>\n",
       "      <td>[{'name': 'Sandollar Productions', 'id': 5842}...</td>\n",
       "      <td>[{'iso_3166_1': 'US', 'name': 'United States o...</td>\n",
       "      <td>1995-02-10</td>\n",
       "      <td>Released</td>\n",
       "      <td>5.7</td>\n",
       "      <td>[{'cast_id': 1, 'character': 'George Banks', '...</td>\n",
       "      <td>[{'credit_id': '52fe44959251416c75039ed7', 'de...</td>\n",
       "    </tr>\n",
       "  </tbody>\n",
       "</table>\n",
       "</div>"
      ],
      "text/plain": [
       "                               belongs_to_collection  \\\n",
       "0  {'id': 10194, 'name': 'Toy Story Collection', ...   \n",
       "1                          Information not available   \n",
       "2  {'id': 119050, 'name': 'Grumpy Old Men Collect...   \n",
       "3                          Information not available   \n",
       "4  {'id': 96871, 'name': 'Father of the Bride Col...   \n",
       "\n",
       "                                              genres original_language  \\\n",
       "0  [{'id': 16, 'name': 'Animation'}, {'id': 35, '...                en   \n",
       "1  [{'id': 12, 'name': 'Adventure'}, {'id': 14, '...                en   \n",
       "2  [{'id': 10749, 'name': 'Romance'}, {'id': 35, ...                en   \n",
       "3  [{'id': 35, 'name': 'Comedy'}, {'id': 18, 'nam...                en   \n",
       "4                     [{'id': 35, 'name': 'Comedy'}]                en   \n",
       "\n",
       "                original_title  \\\n",
       "0                    Toy Story   \n",
       "1                      Jumanji   \n",
       "2             Grumpier Old Men   \n",
       "3            Waiting to Exhale   \n",
       "4  Father of the Bride Part II   \n",
       "\n",
       "                                production_companies  \\\n",
       "0     [{'name': 'Pixar Animation Studios', 'id': 3}]   \n",
       "1  [{'name': 'TriStar Pictures', 'id': 559}, {'na...   \n",
       "2  [{'name': 'Warner Bros.', 'id': 6194}, {'name'...   \n",
       "3  [{'name': 'Twentieth Century Fox Film Corporat...   \n",
       "4  [{'name': 'Sandollar Productions', 'id': 5842}...   \n",
       "\n",
       "                                production_countries release_date    status  \\\n",
       "0  [{'iso_3166_1': 'US', 'name': 'United States o...   1995-10-30  Released   \n",
       "1  [{'iso_3166_1': 'US', 'name': 'United States o...   1995-12-15  Released   \n",
       "2  [{'iso_3166_1': 'US', 'name': 'United States o...   1995-12-22  Released   \n",
       "3  [{'iso_3166_1': 'US', 'name': 'United States o...   1995-12-22  Released   \n",
       "4  [{'iso_3166_1': 'US', 'name': 'United States o...   1995-02-10  Released   \n",
       "\n",
       "  vote_average                                               cast  \\\n",
       "0          7.7  [{'cast_id': 14, 'character': 'Woody (voice)',...   \n",
       "1          6.9  [{'cast_id': 1, 'character': 'Alan Parrish', '...   \n",
       "2          6.5  [{'cast_id': 2, 'character': 'Max Goldman', 'c...   \n",
       "3          6.1  [{'cast_id': 1, 'character': \"Savannah 'Vannah...   \n",
       "4          5.7  [{'cast_id': 1, 'character': 'George Banks', '...   \n",
       "\n",
       "                                                crew  \n",
       "0  [{'credit_id': '52fe4284c3a36847f8024f49', 'de...  \n",
       "1  [{'credit_id': '52fe44bfc3a36847f80a7cd1', 'de...  \n",
       "2  [{'credit_id': '52fe466a9251416c75077a89', 'de...  \n",
       "3  [{'credit_id': '52fe44779251416c91011acb', 'de...  \n",
       "4  [{'credit_id': '52fe44959251416c75039ed7', 'de...  "
      ]
     },
     "execution_count": 62,
     "metadata": {},
     "output_type": "execute_result"
    }
   ],
   "source": [
    "movie_metadata_dataframe.head()"
   ]
  },
  {
   "cell_type": "code",
   "execution_count": 63,
   "metadata": {},
   "outputs": [
    {
     "data": {
      "text/plain": [
       "(44522, 11)"
      ]
     },
     "execution_count": 63,
     "metadata": {},
     "output_type": "execute_result"
    }
   ],
   "source": [
    "movie_metadata_dataframe.shape"
   ]
  },
  {
   "cell_type": "code",
   "execution_count": 64,
   "metadata": {},
   "outputs": [],
   "source": [
    "# Get the director's name from the crew feature. If director is not listed, return NaN\n",
    "def get_director(x):\n",
    "    try:\n",
    "        for i in x:\n",
    "            if i['job'] == 'Director':\n",
    "                return i['name']\n",
    "    except:\n",
    "        return \"Information not available\""
   ]
  },
  {
   "cell_type": "code",
   "execution_count": 65,
   "metadata": {},
   "outputs": [],
   "source": [
    "# Get the director's name from the crew feature. If director is not listed, return NaN\n",
    "def get_producer(x):\n",
    "    try:\n",
    "        for i in x:\n",
    "            if i['job'] == 'Producer':\n",
    "                return i['name']\n",
    "    except:\n",
    "        return \"Information not available\""
   ]
  },
  {
   "cell_type": "code",
   "execution_count": 66,
   "metadata": {
    "scrolled": true
   },
   "outputs": [],
   "source": [
    "# Returns the list top 3 elements or entire list; whichever is more.\n",
    "def get_list(x):\n",
    "    try:\n",
    "        if isinstance(x, list):\n",
    "            names = [i['name'] for i in x]\n",
    "            #Check if more than 3 elements exist. If yes, return only first three. If no, return entire list.\n",
    "            if len(names) > 3:\n",
    "                names = names[:3]\n",
    "            return \", \".join(names)\n",
    "        else:\n",
    "            return \"Information not available\"\n",
    "    except:\n",
    "        return \"Information not available\""
   ]
  },
  {
   "cell_type": "code",
   "execution_count": 67,
   "metadata": {},
   "outputs": [],
   "source": [
    "# Returns the list top 3 elements or entire list; whichever is more.\n",
    "def get_dict(x):\n",
    "    try:\n",
    "        if isinstance(x, dict):\n",
    "            names = x['name']\n",
    "            return names\n",
    "        else:\n",
    "            return \"Information not available\"\n",
    "    except:\n",
    "        return \"Information not available\""
   ]
  },
  {
   "cell_type": "code",
   "execution_count": 68,
   "metadata": {},
   "outputs": [],
   "source": [
    "def get_list_type(x):\n",
    "    try:\n",
    "        if x!= \"Information not available\":\n",
    "            return ast.literal_eval(str(x))   \n",
    "        else:\n",
    "            return \"Information not available\"\n",
    "    except Exception as e:\n",
    "        return \"Information not available\""
   ]
  },
  {
   "cell_type": "code",
   "execution_count": 69,
   "metadata": {},
   "outputs": [],
   "source": [
    "def get_dict_type(x):\n",
    "    try:\n",
    "        if x != \"Information not available\":\n",
    "            return ast.literal_eval(str(x))   \n",
    "        else:\n",
    "            return \"Information not available\"\n",
    "    except:\n",
    "        return \"Information not available\""
   ]
  },
  {
   "cell_type": "markdown",
   "metadata": {},
   "source": [
    " "
   ]
  },
  {
   "cell_type": "code",
   "execution_count": 70,
   "metadata": {},
   "outputs": [],
   "source": [
    "movie_metadata_dataframe[\"belongs_to_collection\"] = movie_metadata_dataframe[\"belongs_to_collection\"].apply(get_dict_type)\n",
    "movie_metadata_dataframe[\"belongs_to_collection\"] = movie_metadata_dataframe[\"belongs_to_collection\"].apply(get_dict)\n"
   ]
  },
  {
   "cell_type": "code",
   "execution_count": 71,
   "metadata": {},
   "outputs": [],
   "source": [
    "movie_metadata_dataframe[\"production_countries\"] = movie_metadata_dataframe[\"production_countries\"].apply(get_list_type)\n",
    "movie_metadata_dataframe[\"production_countries\"] = movie_metadata_dataframe[\"production_countries\"].apply(get_list)"
   ]
  },
  {
   "cell_type": "code",
   "execution_count": 72,
   "metadata": {},
   "outputs": [],
   "source": [
    "movie_metadata_dataframe[\"genres\"] = movie_metadata_dataframe[\"genres\"].apply(get_list_type)\n",
    "movie_metadata_dataframe[\"genres\"] = movie_metadata_dataframe[\"genres\"].apply(get_list)"
   ]
  },
  {
   "cell_type": "code",
   "execution_count": 73,
   "metadata": {},
   "outputs": [],
   "source": [
    "movie_metadata_dataframe[\"production_companies\"] = movie_metadata_dataframe[\"production_companies\"].apply(get_list_type)\n",
    "movie_metadata_dataframe[\"production_companies\"] = movie_metadata_dataframe[\"production_companies\"].apply(get_list)"
   ]
  },
  {
   "cell_type": "code",
   "execution_count": 74,
   "metadata": {},
   "outputs": [],
   "source": [
    "movie_metadata_dataframe[\"cast\"] = movie_metadata_dataframe[\"cast\"].apply(get_list_type)\n",
    "movie_metadata_dataframe[\"cast\"] = movie_metadata_dataframe[\"cast\"].apply(get_list)"
   ]
  },
  {
   "cell_type": "code",
   "execution_count": 75,
   "metadata": {},
   "outputs": [],
   "source": [
    "movie_metadata_dataframe[\"crew\"] = movie_metadata_dataframe[\"crew\"].apply(get_list_type)\n",
    "movie_metadata_dataframe[\"director\"] = movie_metadata_dataframe[\"crew\"].apply(get_director)\n",
    "movie_metadata_dataframe[\"producer\"] = movie_metadata_dataframe[\"crew\"].apply(get_producer)"
   ]
  },
  {
   "cell_type": "markdown",
   "metadata": {},
   "source": [
    " "
   ]
  },
  {
   "cell_type": "markdown",
   "metadata": {},
   "source": [
    " "
   ]
  },
  {
   "cell_type": "markdown",
   "metadata": {},
   "source": [
    " "
   ]
  },
  {
   "cell_type": "code",
   "execution_count": 76,
   "metadata": {},
   "outputs": [],
   "source": [
    "def get_year(data):\n",
    "    data = re.sub(\"\\(.*?\\)\",\"\",data)\n",
    "    data = re.sub(\"\\<.*?>\",\"\", data)\n",
    "    data = data.split(\" \")[0]\n",
    "    if data.isalpha() or data==\"\":\n",
    "        return 0\n",
    "    else:\n",
    "        return int(data)"
   ]
  },
  {
   "cell_type": "code",
   "execution_count": 77,
   "metadata": {},
   "outputs": [],
   "source": [
    "movie_metadata_dataframe[\"release_date\"] = movie_metadata_dataframe[\"release_date\"].str.replace(\"-\",\" \") "
   ]
  },
  {
   "cell_type": "code",
   "execution_count": 78,
   "metadata": {},
   "outputs": [],
   "source": [
    "movie_metadata_dataframe[\"release_year\"] = movie_metadata_dataframe[\"release_date\"].apply(get_year)"
   ]
  },
  {
   "cell_type": "code",
   "execution_count": 79,
   "metadata": {},
   "outputs": [],
   "source": [
    "movie_metadata_dataframe[\"vote_average\"] = movie_metadata_dataframe[\"vote_average\"].replace(\"Information not available\",0.0) "
   ]
  },
  {
   "cell_type": "markdown",
   "metadata": {},
   "source": [
    " "
   ]
  },
  {
   "cell_type": "code",
   "execution_count": 80,
   "metadata": {},
   "outputs": [
    {
     "data": {
      "text/html": [
       "<div>\n",
       "<style scoped>\n",
       "    .dataframe tbody tr th:only-of-type {\n",
       "        vertical-align: middle;\n",
       "    }\n",
       "\n",
       "    .dataframe tbody tr th {\n",
       "        vertical-align: top;\n",
       "    }\n",
       "\n",
       "    .dataframe thead th {\n",
       "        text-align: right;\n",
       "    }\n",
       "</style>\n",
       "<table border=\"1\" class=\"dataframe\">\n",
       "  <thead>\n",
       "    <tr style=\"text-align: right;\">\n",
       "      <th></th>\n",
       "      <th>belongs_to_collection</th>\n",
       "      <th>genres</th>\n",
       "      <th>original_language</th>\n",
       "      <th>original_title</th>\n",
       "      <th>production_companies</th>\n",
       "      <th>production_countries</th>\n",
       "      <th>release_date</th>\n",
       "      <th>status</th>\n",
       "      <th>vote_average</th>\n",
       "      <th>cast</th>\n",
       "      <th>crew</th>\n",
       "      <th>director</th>\n",
       "      <th>producer</th>\n",
       "      <th>release_year</th>\n",
       "    </tr>\n",
       "  </thead>\n",
       "  <tbody>\n",
       "    <tr>\n",
       "      <th>44517</th>\n",
       "      <td>Information not available</td>\n",
       "      <td>Drama, Action, Romance</td>\n",
       "      <td>en</td>\n",
       "      <td>Robin Hood</td>\n",
       "      <td>Westdeutscher Rundfunk (WDR), Working Title Fi...</td>\n",
       "      <td>Canada, Germany, United Kingdom</td>\n",
       "      <td>1991 05 13</td>\n",
       "      <td>Released</td>\n",
       "      <td>5.7</td>\n",
       "      <td>Patrick Bergin, Uma Thurman, David Morrissey</td>\n",
       "      <td>[{'credit_id': '52fe44439251416c9100a899', 'de...</td>\n",
       "      <td>John Irvin</td>\n",
       "      <td>Sarah Radclyffe</td>\n",
       "      <td>1991</td>\n",
       "    </tr>\n",
       "    <tr>\n",
       "      <th>44518</th>\n",
       "      <td>Information not available</td>\n",
       "      <td>Drama, Family</td>\n",
       "      <td>fa</td>\n",
       "      <td>رگ خواب</td>\n",
       "      <td></td>\n",
       "      <td>Iran</td>\n",
       "      <td>Information not available</td>\n",
       "      <td>Released</td>\n",
       "      <td>4.0</td>\n",
       "      <td>Leila Hatami, Kourosh Tahami, Elham Korda</td>\n",
       "      <td>[{'credit_id': '5894a97d925141426c00818c', 'de...</td>\n",
       "      <td>Hamid Nematollah</td>\n",
       "      <td>Hamid Nematollah</td>\n",
       "      <td>0</td>\n",
       "    </tr>\n",
       "    <tr>\n",
       "      <th>44519</th>\n",
       "      <td>Information not available</td>\n",
       "      <td>Action, Drama, Thriller</td>\n",
       "      <td>en</td>\n",
       "      <td>Betrayal</td>\n",
       "      <td>American World Pictures</td>\n",
       "      <td>United States of America</td>\n",
       "      <td>2003 08 01</td>\n",
       "      <td>Released</td>\n",
       "      <td>3.8</td>\n",
       "      <td>Erika Eleniak, Adam Baldwin, Julie du Page</td>\n",
       "      <td>[{'credit_id': '52fe4776c3a368484e0c8387', 'de...</td>\n",
       "      <td>Mark L. Lester</td>\n",
       "      <td>None</td>\n",
       "      <td>2003</td>\n",
       "    </tr>\n",
       "    <tr>\n",
       "      <th>44520</th>\n",
       "      <td>Information not available</td>\n",
       "      <td></td>\n",
       "      <td>en</td>\n",
       "      <td>Satana likuyushchiy</td>\n",
       "      <td>Yermoliev</td>\n",
       "      <td>Russia</td>\n",
       "      <td>1917 10 21</td>\n",
       "      <td>Released</td>\n",
       "      <td>0.0</td>\n",
       "      <td>Iwan Mosschuchin, Nathalie Lissenko, Pavel Pavlov</td>\n",
       "      <td>[{'credit_id': '533bccebc3a36844cf0011a7', 'de...</td>\n",
       "      <td>Yakov Protazanov</td>\n",
       "      <td>Joseph N. Ermolieff</td>\n",
       "      <td>1917</td>\n",
       "    </tr>\n",
       "    <tr>\n",
       "      <th>44521</th>\n",
       "      <td>Information not available</td>\n",
       "      <td></td>\n",
       "      <td>en</td>\n",
       "      <td>Queerama</td>\n",
       "      <td></td>\n",
       "      <td>United Kingdom</td>\n",
       "      <td>2017 06 09</td>\n",
       "      <td>Released</td>\n",
       "      <td>0.0</td>\n",
       "      <td></td>\n",
       "      <td>[{'credit_id': '593e676c92514105b702e68e', 'de...</td>\n",
       "      <td>Daisy Asquith</td>\n",
       "      <td>None</td>\n",
       "      <td>2017</td>\n",
       "    </tr>\n",
       "  </tbody>\n",
       "</table>\n",
       "</div>"
      ],
      "text/plain": [
       "           belongs_to_collection                   genres original_language  \\\n",
       "44517  Information not available   Drama, Action, Romance                en   \n",
       "44518  Information not available            Drama, Family                fa   \n",
       "44519  Information not available  Action, Drama, Thriller                en   \n",
       "44520  Information not available                                         en   \n",
       "44521  Information not available                                         en   \n",
       "\n",
       "            original_title                               production_companies  \\\n",
       "44517           Robin Hood  Westdeutscher Rundfunk (WDR), Working Title Fi...   \n",
       "44518              رگ خواب                                                      \n",
       "44519             Betrayal                            American World Pictures   \n",
       "44520  Satana likuyushchiy                                          Yermoliev   \n",
       "44521             Queerama                                                      \n",
       "\n",
       "                  production_countries               release_date    status  \\\n",
       "44517  Canada, Germany, United Kingdom                 1991 05 13  Released   \n",
       "44518                             Iran  Information not available  Released   \n",
       "44519         United States of America                 2003 08 01  Released   \n",
       "44520                           Russia                 1917 10 21  Released   \n",
       "44521                   United Kingdom                 2017 06 09  Released   \n",
       "\n",
       "       vote_average                                               cast  \\\n",
       "44517           5.7       Patrick Bergin, Uma Thurman, David Morrissey   \n",
       "44518           4.0          Leila Hatami, Kourosh Tahami, Elham Korda   \n",
       "44519           3.8         Erika Eleniak, Adam Baldwin, Julie du Page   \n",
       "44520           0.0  Iwan Mosschuchin, Nathalie Lissenko, Pavel Pavlov   \n",
       "44521           0.0                                                      \n",
       "\n",
       "                                                    crew          director  \\\n",
       "44517  [{'credit_id': '52fe44439251416c9100a899', 'de...        John Irvin   \n",
       "44518  [{'credit_id': '5894a97d925141426c00818c', 'de...  Hamid Nematollah   \n",
       "44519  [{'credit_id': '52fe4776c3a368484e0c8387', 'de...    Mark L. Lester   \n",
       "44520  [{'credit_id': '533bccebc3a36844cf0011a7', 'de...  Yakov Protazanov   \n",
       "44521  [{'credit_id': '593e676c92514105b702e68e', 'de...     Daisy Asquith   \n",
       "\n",
       "                  producer  release_year  \n",
       "44517      Sarah Radclyffe          1991  \n",
       "44518     Hamid Nematollah             0  \n",
       "44519                 None          2003  \n",
       "44520  Joseph N. Ermolieff          1917  \n",
       "44521                 None          2017  "
      ]
     },
     "execution_count": 80,
     "metadata": {},
     "output_type": "execute_result"
    }
   ],
   "source": [
    "movie_metadata_dataframe.tail()"
   ]
  },
  {
   "cell_type": "code",
   "execution_count": 81,
   "metadata": {},
   "outputs": [],
   "source": [
    "#Replace empty and None values with \"Information not available\" using regex\n",
    "movie_metadata_dataframe = movie_metadata_dataframe.replace(r'^\\s*$', \"Information not available\", regex=True)"
   ]
  },
  {
   "cell_type": "code",
   "execution_count": 82,
   "metadata": {
    "scrolled": true
   },
   "outputs": [],
   "source": [
    "movie_metadata_dataframe.fillna(value=pd.np.nan, inplace=True)"
   ]
  },
  {
   "cell_type": "code",
   "execution_count": 83,
   "metadata": {},
   "outputs": [],
   "source": [
    "movie_metadata_dataframe.replace(pd.np.nan,'Information not available',inplace=True)"
   ]
  },
  {
   "cell_type": "code",
   "execution_count": 84,
   "metadata": {
    "scrolled": true
   },
   "outputs": [
    {
     "data": {
      "text/html": [
       "<div>\n",
       "<style scoped>\n",
       "    .dataframe tbody tr th:only-of-type {\n",
       "        vertical-align: middle;\n",
       "    }\n",
       "\n",
       "    .dataframe tbody tr th {\n",
       "        vertical-align: top;\n",
       "    }\n",
       "\n",
       "    .dataframe thead th {\n",
       "        text-align: right;\n",
       "    }\n",
       "</style>\n",
       "<table border=\"1\" class=\"dataframe\">\n",
       "  <thead>\n",
       "    <tr style=\"text-align: right;\">\n",
       "      <th></th>\n",
       "      <th>belongs_to_collection</th>\n",
       "      <th>genres</th>\n",
       "      <th>original_language</th>\n",
       "      <th>original_title</th>\n",
       "      <th>production_companies</th>\n",
       "      <th>production_countries</th>\n",
       "      <th>release_date</th>\n",
       "      <th>status</th>\n",
       "      <th>vote_average</th>\n",
       "      <th>cast</th>\n",
       "      <th>crew</th>\n",
       "      <th>director</th>\n",
       "      <th>producer</th>\n",
       "      <th>release_year</th>\n",
       "    </tr>\n",
       "  </thead>\n",
       "  <tbody>\n",
       "    <tr>\n",
       "      <th>44517</th>\n",
       "      <td>Information not available</td>\n",
       "      <td>Drama, Action, Romance</td>\n",
       "      <td>en</td>\n",
       "      <td>Robin Hood</td>\n",
       "      <td>Westdeutscher Rundfunk (WDR), Working Title Fi...</td>\n",
       "      <td>Canada, Germany, United Kingdom</td>\n",
       "      <td>1991 05 13</td>\n",
       "      <td>Released</td>\n",
       "      <td>5.7</td>\n",
       "      <td>Patrick Bergin, Uma Thurman, David Morrissey</td>\n",
       "      <td>[{'credit_id': '52fe44439251416c9100a899', 'de...</td>\n",
       "      <td>John Irvin</td>\n",
       "      <td>Sarah Radclyffe</td>\n",
       "      <td>1991</td>\n",
       "    </tr>\n",
       "    <tr>\n",
       "      <th>44518</th>\n",
       "      <td>Information not available</td>\n",
       "      <td>Drama, Family</td>\n",
       "      <td>fa</td>\n",
       "      <td>رگ خواب</td>\n",
       "      <td>Information not available</td>\n",
       "      <td>Iran</td>\n",
       "      <td>Information not available</td>\n",
       "      <td>Released</td>\n",
       "      <td>4.0</td>\n",
       "      <td>Leila Hatami, Kourosh Tahami, Elham Korda</td>\n",
       "      <td>[{'credit_id': '5894a97d925141426c00818c', 'de...</td>\n",
       "      <td>Hamid Nematollah</td>\n",
       "      <td>Hamid Nematollah</td>\n",
       "      <td>0</td>\n",
       "    </tr>\n",
       "    <tr>\n",
       "      <th>44519</th>\n",
       "      <td>Information not available</td>\n",
       "      <td>Action, Drama, Thriller</td>\n",
       "      <td>en</td>\n",
       "      <td>Betrayal</td>\n",
       "      <td>American World Pictures</td>\n",
       "      <td>United States of America</td>\n",
       "      <td>2003 08 01</td>\n",
       "      <td>Released</td>\n",
       "      <td>3.8</td>\n",
       "      <td>Erika Eleniak, Adam Baldwin, Julie du Page</td>\n",
       "      <td>[{'credit_id': '52fe4776c3a368484e0c8387', 'de...</td>\n",
       "      <td>Mark L. Lester</td>\n",
       "      <td>Information not available</td>\n",
       "      <td>2003</td>\n",
       "    </tr>\n",
       "    <tr>\n",
       "      <th>44520</th>\n",
       "      <td>Information not available</td>\n",
       "      <td>Information not available</td>\n",
       "      <td>en</td>\n",
       "      <td>Satana likuyushchiy</td>\n",
       "      <td>Yermoliev</td>\n",
       "      <td>Russia</td>\n",
       "      <td>1917 10 21</td>\n",
       "      <td>Released</td>\n",
       "      <td>0.0</td>\n",
       "      <td>Iwan Mosschuchin, Nathalie Lissenko, Pavel Pavlov</td>\n",
       "      <td>[{'credit_id': '533bccebc3a36844cf0011a7', 'de...</td>\n",
       "      <td>Yakov Protazanov</td>\n",
       "      <td>Joseph N. Ermolieff</td>\n",
       "      <td>1917</td>\n",
       "    </tr>\n",
       "    <tr>\n",
       "      <th>44521</th>\n",
       "      <td>Information not available</td>\n",
       "      <td>Information not available</td>\n",
       "      <td>en</td>\n",
       "      <td>Queerama</td>\n",
       "      <td>Information not available</td>\n",
       "      <td>United Kingdom</td>\n",
       "      <td>2017 06 09</td>\n",
       "      <td>Released</td>\n",
       "      <td>0.0</td>\n",
       "      <td>Information not available</td>\n",
       "      <td>[{'credit_id': '593e676c92514105b702e68e', 'de...</td>\n",
       "      <td>Daisy Asquith</td>\n",
       "      <td>Information not available</td>\n",
       "      <td>2017</td>\n",
       "    </tr>\n",
       "  </tbody>\n",
       "</table>\n",
       "</div>"
      ],
      "text/plain": [
       "           belongs_to_collection                     genres original_language  \\\n",
       "44517  Information not available     Drama, Action, Romance                en   \n",
       "44518  Information not available              Drama, Family                fa   \n",
       "44519  Information not available    Action, Drama, Thriller                en   \n",
       "44520  Information not available  Information not available                en   \n",
       "44521  Information not available  Information not available                en   \n",
       "\n",
       "            original_title                               production_companies  \\\n",
       "44517           Robin Hood  Westdeutscher Rundfunk (WDR), Working Title Fi...   \n",
       "44518              رگ خواب                          Information not available   \n",
       "44519             Betrayal                            American World Pictures   \n",
       "44520  Satana likuyushchiy                                          Yermoliev   \n",
       "44521             Queerama                          Information not available   \n",
       "\n",
       "                  production_countries               release_date    status  \\\n",
       "44517  Canada, Germany, United Kingdom                 1991 05 13  Released   \n",
       "44518                             Iran  Information not available  Released   \n",
       "44519         United States of America                 2003 08 01  Released   \n",
       "44520                           Russia                 1917 10 21  Released   \n",
       "44521                   United Kingdom                 2017 06 09  Released   \n",
       "\n",
       "       vote_average                                               cast  \\\n",
       "44517           5.7       Patrick Bergin, Uma Thurman, David Morrissey   \n",
       "44518           4.0          Leila Hatami, Kourosh Tahami, Elham Korda   \n",
       "44519           3.8         Erika Eleniak, Adam Baldwin, Julie du Page   \n",
       "44520           0.0  Iwan Mosschuchin, Nathalie Lissenko, Pavel Pavlov   \n",
       "44521           0.0                          Information not available   \n",
       "\n",
       "                                                    crew          director  \\\n",
       "44517  [{'credit_id': '52fe44439251416c9100a899', 'de...        John Irvin   \n",
       "44518  [{'credit_id': '5894a97d925141426c00818c', 'de...  Hamid Nematollah   \n",
       "44519  [{'credit_id': '52fe4776c3a368484e0c8387', 'de...    Mark L. Lester   \n",
       "44520  [{'credit_id': '533bccebc3a36844cf0011a7', 'de...  Yakov Protazanov   \n",
       "44521  [{'credit_id': '593e676c92514105b702e68e', 'de...     Daisy Asquith   \n",
       "\n",
       "                        producer  release_year  \n",
       "44517            Sarah Radclyffe          1991  \n",
       "44518           Hamid Nematollah             0  \n",
       "44519  Information not available          2003  \n",
       "44520        Joseph N. Ermolieff          1917  \n",
       "44521  Information not available          2017  "
      ]
     },
     "execution_count": 84,
     "metadata": {},
     "output_type": "execute_result"
    }
   ],
   "source": [
    "movie_metadata_dataframe.tail()"
   ]
  },
  {
   "cell_type": "code",
   "execution_count": 85,
   "metadata": {},
   "outputs": [],
   "source": [
    "del movie_metadata_dataframe[\"crew\"]"
   ]
  },
  {
   "cell_type": "code",
   "execution_count": 86,
   "metadata": {},
   "outputs": [
    {
     "data": {
      "text/html": [
       "<div>\n",
       "<style scoped>\n",
       "    .dataframe tbody tr th:only-of-type {\n",
       "        vertical-align: middle;\n",
       "    }\n",
       "\n",
       "    .dataframe tbody tr th {\n",
       "        vertical-align: top;\n",
       "    }\n",
       "\n",
       "    .dataframe thead th {\n",
       "        text-align: right;\n",
       "    }\n",
       "</style>\n",
       "<table border=\"1\" class=\"dataframe\">\n",
       "  <thead>\n",
       "    <tr style=\"text-align: right;\">\n",
       "      <th></th>\n",
       "      <th>belongs_to_collection</th>\n",
       "      <th>genres</th>\n",
       "      <th>original_language</th>\n",
       "      <th>original_title</th>\n",
       "      <th>production_companies</th>\n",
       "      <th>production_countries</th>\n",
       "      <th>release_date</th>\n",
       "      <th>status</th>\n",
       "      <th>vote_average</th>\n",
       "      <th>cast</th>\n",
       "      <th>director</th>\n",
       "      <th>producer</th>\n",
       "      <th>release_year</th>\n",
       "    </tr>\n",
       "  </thead>\n",
       "  <tbody>\n",
       "    <tr>\n",
       "      <th>0</th>\n",
       "      <td>Toy Story Collection</td>\n",
       "      <td>Animation, Comedy, Family</td>\n",
       "      <td>en</td>\n",
       "      <td>Toy Story</td>\n",
       "      <td>Pixar Animation Studios</td>\n",
       "      <td>United States of America</td>\n",
       "      <td>1995 10 30</td>\n",
       "      <td>Released</td>\n",
       "      <td>7.7</td>\n",
       "      <td>Tom Hanks, Tim Allen, Don Rickles</td>\n",
       "      <td>John Lasseter</td>\n",
       "      <td>Bonnie Arnold</td>\n",
       "      <td>1995</td>\n",
       "    </tr>\n",
       "    <tr>\n",
       "      <th>1</th>\n",
       "      <td>Information not available</td>\n",
       "      <td>Adventure, Fantasy, Family</td>\n",
       "      <td>en</td>\n",
       "      <td>Jumanji</td>\n",
       "      <td>TriStar Pictures, Teitler Film, Interscope Com...</td>\n",
       "      <td>United States of America</td>\n",
       "      <td>1995 12 15</td>\n",
       "      <td>Released</td>\n",
       "      <td>6.9</td>\n",
       "      <td>Robin Williams, Jonathan Hyde, Kirsten Dunst</td>\n",
       "      <td>Joe Johnston</td>\n",
       "      <td>Scott Kroopf</td>\n",
       "      <td>1995</td>\n",
       "    </tr>\n",
       "    <tr>\n",
       "      <th>2</th>\n",
       "      <td>Grumpy Old Men Collection</td>\n",
       "      <td>Romance, Comedy</td>\n",
       "      <td>en</td>\n",
       "      <td>Grumpier Old Men</td>\n",
       "      <td>Warner Bros., Lancaster Gate</td>\n",
       "      <td>United States of America</td>\n",
       "      <td>1995 12 22</td>\n",
       "      <td>Released</td>\n",
       "      <td>6.5</td>\n",
       "      <td>Walter Matthau, Jack Lemmon, Ann-Margret</td>\n",
       "      <td>Howard Deutch</td>\n",
       "      <td>Information not available</td>\n",
       "      <td>1995</td>\n",
       "    </tr>\n",
       "    <tr>\n",
       "      <th>3</th>\n",
       "      <td>Information not available</td>\n",
       "      <td>Comedy, Drama, Romance</td>\n",
       "      <td>en</td>\n",
       "      <td>Waiting to Exhale</td>\n",
       "      <td>Twentieth Century Fox Film Corporation</td>\n",
       "      <td>United States of America</td>\n",
       "      <td>1995 12 22</td>\n",
       "      <td>Released</td>\n",
       "      <td>6.1</td>\n",
       "      <td>Whitney Houston, Angela Bassett, Loretta Devine</td>\n",
       "      <td>Forest Whitaker</td>\n",
       "      <td>Ronald Bass</td>\n",
       "      <td>1995</td>\n",
       "    </tr>\n",
       "    <tr>\n",
       "      <th>4</th>\n",
       "      <td>Father of the Bride Collection</td>\n",
       "      <td>Comedy</td>\n",
       "      <td>en</td>\n",
       "      <td>Father of the Bride Part II</td>\n",
       "      <td>Sandollar Productions, Touchstone Pictures</td>\n",
       "      <td>United States of America</td>\n",
       "      <td>1995 02 10</td>\n",
       "      <td>Released</td>\n",
       "      <td>5.7</td>\n",
       "      <td>Steve Martin, Diane Keaton, Martin Short</td>\n",
       "      <td>Charles Shyer</td>\n",
       "      <td>Nancy Meyers</td>\n",
       "      <td>1995</td>\n",
       "    </tr>\n",
       "  </tbody>\n",
       "</table>\n",
       "</div>"
      ],
      "text/plain": [
       "            belongs_to_collection                      genres  \\\n",
       "0            Toy Story Collection   Animation, Comedy, Family   \n",
       "1       Information not available  Adventure, Fantasy, Family   \n",
       "2       Grumpy Old Men Collection             Romance, Comedy   \n",
       "3       Information not available      Comedy, Drama, Romance   \n",
       "4  Father of the Bride Collection                      Comedy   \n",
       "\n",
       "  original_language               original_title  \\\n",
       "0                en                    Toy Story   \n",
       "1                en                      Jumanji   \n",
       "2                en             Grumpier Old Men   \n",
       "3                en            Waiting to Exhale   \n",
       "4                en  Father of the Bride Part II   \n",
       "\n",
       "                                production_companies  \\\n",
       "0                            Pixar Animation Studios   \n",
       "1  TriStar Pictures, Teitler Film, Interscope Com...   \n",
       "2                       Warner Bros., Lancaster Gate   \n",
       "3             Twentieth Century Fox Film Corporation   \n",
       "4         Sandollar Productions, Touchstone Pictures   \n",
       "\n",
       "       production_countries release_date    status  vote_average  \\\n",
       "0  United States of America   1995 10 30  Released           7.7   \n",
       "1  United States of America   1995 12 15  Released           6.9   \n",
       "2  United States of America   1995 12 22  Released           6.5   \n",
       "3  United States of America   1995 12 22  Released           6.1   \n",
       "4  United States of America   1995 02 10  Released           5.7   \n",
       "\n",
       "                                              cast         director  \\\n",
       "0                Tom Hanks, Tim Allen, Don Rickles    John Lasseter   \n",
       "1     Robin Williams, Jonathan Hyde, Kirsten Dunst     Joe Johnston   \n",
       "2         Walter Matthau, Jack Lemmon, Ann-Margret    Howard Deutch   \n",
       "3  Whitney Houston, Angela Bassett, Loretta Devine  Forest Whitaker   \n",
       "4         Steve Martin, Diane Keaton, Martin Short    Charles Shyer   \n",
       "\n",
       "                    producer  release_year  \n",
       "0              Bonnie Arnold          1995  \n",
       "1               Scott Kroopf          1995  \n",
       "2  Information not available          1995  \n",
       "3                Ronald Bass          1995  \n",
       "4               Nancy Meyers          1995  "
      ]
     },
     "execution_count": 86,
     "metadata": {},
     "output_type": "execute_result"
    }
   ],
   "source": [
    "movie_metadata_dataframe.head()"
   ]
  },
  {
   "cell_type": "markdown",
   "metadata": {},
   "source": [
    "### Recommendation Code "
   ]
  },
  {
   "cell_type": "code",
   "execution_count": 87,
   "metadata": {},
   "outputs": [],
   "source": [
    "#convert dataframes to dictionaries\n",
    "movie_dictionaries = movie_metadata_dataframe.to_dict('records')"
   ]
  },
  {
   "cell_type": "code",
   "execution_count": 88,
   "metadata": {},
   "outputs": [],
   "source": [
    "#make a single dictionary with key as book name and value as dictionary with all the features\n",
    "single_movie_dictionary = {}\n",
    "for element in movie_dictionaries:\n",
    "    single_movie_dictionary[element['original_title']] = element"
   ]
  },
  {
   "cell_type": "code",
   "execution_count": 90,
   "metadata": {},
   "outputs": [
    {
     "data": {
      "text/plain": [
       "Index(['belongs_to_collection', 'genres', 'original_language',\n",
       "       'original_title', 'production_companies', 'production_countries',\n",
       "       'release_date', 'status', 'vote_average', 'cast', 'director',\n",
       "       'producer', 'release_year'],\n",
       "      dtype='object')"
      ]
     },
     "execution_count": 90,
     "metadata": {},
     "output_type": "execute_result"
    }
   ],
   "source": [
    "movie_metadata_dataframe.columns"
   ]
  },
  {
   "cell_type": "code",
   "execution_count": 91,
   "metadata": {},
   "outputs": [],
   "source": [
    "def similarity(movie,dataframe):\n",
    "    start_time = time.time()\n",
    "    count = CountVectorizer()\n",
    "    count_matrix = count.fit_transform(dataframe['bag of words'])\n",
    "    indices = pd.Series(dataframe.index)\n",
    "    cosine_sim = cosine_similarity(count_matrix, count_matrix)\n",
    "    \n",
    "    recommended_movies = []\n",
    "    idx = indices[indices == movie].index[0]\n",
    "\n",
    "    score_series = pd.Series(cosine_sim[idx]).sort_values(ascending = False)\n",
    "\n",
    "    top_10_indexes = list(score_series.iloc[1:-1].index)\n",
    "\n",
    "    for i in top_10_indexes:\n",
    "        recommended_movies.append(list(dataframe.index)[i])\n",
    "        \n",
    "    return recommended_movies"
   ]
  },
  {
   "cell_type": "code",
   "execution_count": 92,
   "metadata": {},
   "outputs": [],
   "source": [
    "#features for movies - ['belongs_to_collection', 'genres', 'original_language', 'original_title', 'production_companies', 'production_countries', 'release_date', 'status', 'vote_average', 'cast', 'release_year']\n",
    "\n",
    "\n",
    "def movie_recommendation(movie_dict, movie_dictionaries):\n",
    "    start_time = time.time()\n",
    "    first_level_filtering = []\n",
    "    second_level_filtering = []\n",
    "    third_level_filtering = []\n",
    "    fourth_level_filtering = []\n",
    "    same_series_movies = []\n",
    "    bag_of_words_dict = {}\n",
    "\n",
    "    movie_genres = movie_dict['genres'].lower().strip().split(\", \")\n",
    "    movie_language = movie_dict['original_language'].lower()\n",
    "    movie_series = movie_dict['belongs_to_collection']\n",
    "    movie_year = movie_dict['release_year']\n",
    "    movie_country = movie_dict[\"production_countries\"]\n",
    "    if movie_dict['vote_average'] != \"Information not available\":\n",
    "        movie_rating = movie_dict['vote_average']\n",
    "    else:\n",
    "        movie_rating = 0\n",
    "\n",
    "    if movie_year != \"Information not available\":\n",
    "        before_released = int(movie_year) - 10\n",
    "        after_released = int(movie_year) + 10\n",
    "    else:\n",
    "        pass\n",
    "\n",
    "    for i in range(len(movie_dictionaries)):\n",
    "        if movie_dict[\"original_language\"].strip() == movie_dictionaries[i]['original_language'] and (movie_dictionaries[i]['vote_average'] > 5.0):\n",
    "            first_level_filtering.append(movie_dictionaries[i])\n",
    "#     return len(first_level_filtering)\n",
    "\n",
    "    for i in range(len(first_level_filtering)):\n",
    "        if first_level_filtering[i]['status'] != \"Released\":\n",
    "            pass\n",
    "        else:\n",
    "            second_level_filtering.append(first_level_filtering[i])     \n",
    "#     return len(second_level_filtering)\n",
    "\n",
    "    if movie_series!= 'Information not available':\n",
    "        for i in range(len(second_level_filtering)):\n",
    "            if movie_series == movie_dictionaries[i]['belongs_to_collection']:\n",
    "                same_series_movies.append(movie_dictionaries[i]['original_title'])\n",
    "\n",
    "    \n",
    "    for i in range(len(second_level_filtering)):\n",
    "        if (movie_country[0] in second_level_filtering[i]['production_countries']):# and second_level_filtering[i]['release_year']>before_released and second_level_filtering[i]['release_year']<after_released:# and self.get_year(first_level_filtering_cleaned_movies[i]['released'])>1960:\n",
    "            try:\n",
    "                if (movie_country[1] in second_level_filtering[i]['production_countries']):\n",
    "                    third_level_filtering.append(second_level_filtering[i])\n",
    "            except:\n",
    "                third_level_filtering.append(second_level_filtering[i])\n",
    "    if movie_genres[0] != \"Information not available\":\n",
    "        if \"animation\" in movie_genres:\n",
    "            for i in range(len(third_level_filtering)):\n",
    "                if \"animation\" in third_level_filtering[i]['genres'].lower():\n",
    "                    fourth_level_filtering.append(third_level_filtering[i])\n",
    "            \n",
    "            #Step to check if the given movie exists in level four list\n",
    "            name_list = []\n",
    "            for i in range(len(fourth_level_filtering)):\n",
    "                name_list.append(fourth_level_filtering[i]['original_title'])\n",
    "            if movie_dict['original_title'] in name_list:\n",
    "                pass\n",
    "            else:\n",
    "                fourth_level_filtering.append(movie_dict)\n",
    "\n",
    "\n",
    "            for i in range(len(fourth_level_filtering)):\n",
    "                bag_of_words_dict[fourth_level_filtering[i][\"original_title\"]]=fourth_level_filtering[i][\"cast\"].replace(\"', '\", \"\").replace(\"'\",\"\").replace(\" \",\"\").replace(\",\",\" \").strip().lower()+\" \"+fourth_level_filtering[i][\"production_companies\"].replace(\"', '\", \"\").replace(\"'\",\"\").replace(\" \",\"\").replace(\",\",\" \").strip().lower()\n",
    "            animated_random_data = pd.DataFrame.from_dict(bag_of_words_dict, columns=['bag of words'], orient='index')\n",
    "            result_dataframe = similarity(movie_dict['original_title'],animated_random_data)\n",
    "            final_dataframe = same_series_movies+result_dataframe\n",
    "            try:\n",
    "                final_dataframe.remove(movie_dict['original_title'])\n",
    "            except:\n",
    "                pass\n",
    "            if len(final_dataframe)>0:\n",
    "                return final_dataframe[:10]\n",
    "            else:\n",
    "                return \"Information not available\"\n",
    "\n",
    "        else:\n",
    "            for i in range(len(third_level_filtering)):\n",
    "                if not \"animation\" in third_level_filtering[i]['genres']:\n",
    "                    fourth_level_filtering.append(third_level_filtering[i])\n",
    "            name_list = []\n",
    "            for i in range(len(fourth_level_filtering)):\n",
    "                name_list.append(fourth_level_filtering[i]['original_title'])\n",
    "            if movie_dict['original_title'] in name_list:\n",
    "                pass\n",
    "            else:\n",
    "                fourth_level_filtering.append(movie_dict)\n",
    "\n",
    "            for i in range(len(fourth_level_filtering)):\n",
    "                bag_of_words_dict[fourth_level_filtering[i][\"original_title\"]]=fourth_level_filtering[i][\"cast\"].replace(\"', '\", \"\").replace(\"'\",\"\").replace(\" \",\"\").replace(\",\",\" \").strip().lower()+\" \"+fourth_level_filtering[i][\"production_companies\"].replace(\"', '\", \"\").replace(\"'\",\"\").replace(\" \",\"\").replace(\",\",\" \").strip().lower()+\" \"+fourth_level_filtering[i][\"genres\"].replace(\"', '\", \"\").replace(\"'\",\"\").replace(\" \",\"\").replace(\",\",\" \").strip().lower()#+\" \"+fourth_level_filtering[i][\"production_companies\"].replace(\"', '\", \"\").replace(\"'\",\"\").replace(\" \",\"\").replace(\",\",\" \").strip().lower()\n",
    "            non_animated_random_data = pd.DataFrame.from_dict(bag_of_words_dict, columns=['bag of words'], orient='index')#, columns=['wiki name', 'starring'])\n",
    "\n",
    "            result_dataframe = similarity(movie_dict['original_title'],non_animated_random_data)\n",
    "            final_dataframe = same_series_movies+result_dataframe\n",
    "            \n",
    "            \n",
    "            try:\n",
    "                final_dataframe.remove(movie_dict['original_title'])\n",
    "            except:\n",
    "                pass\n",
    "            if len(final_dataframe)>0:\n",
    "                return final_dataframe[:10]\n",
    "            else:\n",
    "                return \"Information not available\"\n",
    "    else:\n",
    "        for i in range(len(third_level_filtering)):\n",
    "            if third_level_filtering[i]['release_year']>before_released and third_level_filtering[i]['release_year']<after_released:\n",
    "                fourth_level_filtering.append(third_level_filtering[i])\n",
    "\n",
    "        name_list = []\n",
    "        for i in range(len(fourth_level_filtering)):\n",
    "            name_list.append(fourth_level_filtering[i]['original_title'])\n",
    "        if movie_dict['original_title'] in name_list:\n",
    "            pass\n",
    "        else:\n",
    "            fourth_level_filtering.append(movie_dict)\n",
    "\n",
    "        for i in range(len(fourth_level_filtering)):\n",
    "            bag_of_words_dict[fourth_level_filtering[i][\"original_title\"]]=fourth_level_filtering[i][\"cast\"].replace(\"', '\", \"\").replace(\"'\",\"\").replace(\" \",\"\").replace(\",\",\" \").strip().lower()+\" \"+fourth_level_filtering[i][\"genres\"].replace(\"', '\", \"\").replace(\"'\",\"\").replace(\" \",\"\").replace(\",\",\" \").strip().lower()+\" \"+fourth_level_filtering[i][\"production_companies\"].replace(\"', '\", \"\").replace(\"'\",\"\").replace(\" \",\"\").replace(\",\",\" \").strip().lower()\n",
    "        random_data = pd.DataFrame.from_dict(bag_of_words_dict, columns=['bag of words'], orient='index')#, columns=['wiki name', 'starring'])\n",
    "        result_dataframe = similarity(movie_dict['original_title'],random_data)\n",
    "\n",
    "        result_dataframe = similarity(movie_dict['original_title'],random_data)\n",
    "        final_dataframe = same_series_movies+result_dataframe\n",
    "        \n",
    "        try:\n",
    "            final_dataframe.remove(movie_dict['original_title'])\n",
    "        except:\n",
    "            pass\n",
    "        if len(final_dataframe)>0:\n",
    "            return final_dataframe[:10]\n",
    "        else:\n",
    "            return \"Information not available\"\n"
   ]
  },
  {
   "cell_type": "code",
   "execution_count": 93,
   "metadata": {},
   "outputs": [],
   "source": [
    "def recommendations(movie):\n",
    "    reco_dict ={}\n",
    "    movie = movie.replace(\"\\n\", \"\")\n",
    "    try:\n",
    "        single_movie_dict = single_movie_dictionary[movie]\n",
    "        single_movie_dict['original_title'] = movie\n",
    "        movie_reco_list = movie_recommendation(single_movie_dict, movie_dictionaries)\n",
    "    except:\n",
    "        movie_reco_list = \"Information not available\"\n",
    "    reco_dict[movie] = movie_reco_list\n",
    "    return reco_dict"
   ]
  },
  {
   "cell_type": "code",
   "execution_count": 95,
   "metadata": {
    "scrolled": true
   },
   "outputs": [
    {
     "data": {
      "text/plain": [
       "{'Toy Story': ['Toy Story 2',\n",
       "  'Toy Story 3',\n",
       "  'Toy Story That Time Forgot',\n",
       "  'Toy Story 2',\n",
       "  'Partysaurus Rex',\n",
       "  'Toy Story 3',\n",
       "  'Toy Story of Terror!',\n",
       "  'Hawaiian Vacation',\n",
       "  'Small Fry',\n",
       "  'Knick Knack']}"
      ]
     },
     "execution_count": 95,
     "metadata": {},
     "output_type": "execute_result"
    }
   ],
   "source": [
    "recommendations(\"Toy Story\")"
   ]
  },
  {
   "cell_type": "markdown",
   "metadata": {},
   "source": [
    " "
   ]
  },
  {
   "cell_type": "markdown",
   "metadata": {},
   "source": [
    "## What more can be done? "
   ]
  },
  {
   "cell_type": "markdown",
   "metadata": {},
   "source": [
    "- As you can see generating a recommendation takes time, so a good practice is to generate recommendations for all the entities and store them in JSON(dictionary) form with key as the name of the movie and value as the recommendations or even as SQL table. Fetching from with of them takes far less time.\n",
    "<br>\n",
    "\n",
    "- You can create an API to host a recommendation service from your local server. Something like a recommendation engine.\n",
    "![alt text here](recommendation_service.png \"Recommendation Service\")\n",
    "<br>\n",
    "\n",
    "- The recommendation system we built was purely content based. This would be ideal for a cold start when we do not have feedback from user. So now build an analytical system which can take feedbacks from user and explore how the data from user and the item can be used together.\n",
    "<br>\n",
    "\n",
    "- Use Machine Learning and Deep Learning to combine user and item based recommendation systems and get even better results."
   ]
  },
  {
   "cell_type": "markdown",
   "metadata": {},
   "source": [
    " "
   ]
  },
  {
   "cell_type": "markdown",
   "metadata": {},
   "source": [
    "# THANK YOU!! "
   ]
  }
 ],
 "metadata": {
  "kernelspec": {
   "display_name": "Python 3",
   "language": "python",
   "name": "python3"
  },
  "language_info": {
   "codemirror_mode": {
    "name": "ipython",
    "version": 3
   },
   "file_extension": ".py",
   "mimetype": "text/x-python",
   "name": "python",
   "nbconvert_exporter": "python",
   "pygments_lexer": "ipython3",
   "version": "3.7.3"
  }
 },
 "nbformat": 4,
 "nbformat_minor": 2
}
